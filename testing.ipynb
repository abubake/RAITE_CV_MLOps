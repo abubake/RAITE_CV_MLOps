{
 "cells": [
  {
   "cell_type": "code",
   "execution_count": 1,
   "id": "327aa853",
   "metadata": {},
   "outputs": [],
   "source": [
    "import pandas as pd\n",
    "import numpy as np\n",
    "\n",
    "import motmetrics as mm"
   ]
  },
  {
   "cell_type": "code",
   "execution_count": 2,
   "id": "b3c2a809",
   "metadata": {},
   "outputs": [],
   "source": [
    "arr1 = np.loadtxt('multimodal_test/gt_uv.csv', delimiter=',')\n",
    "gt_uv = np.delete(arr1, [2,3,4], axis=1);"
   ]
  },
  {
   "cell_type": "code",
   "execution_count": 3,
   "id": "01643ba2",
   "metadata": {},
   "outputs": [],
   "source": [
    "def convert_normalized_gt_to_absolute(gt_uv_normalized, image_width, image_height):\n",
    "    \"\"\"\n",
    "    Converts normalized (u, v) coordinates to pixel coordinates and adds track ID 0.\n",
    "    \n",
    "    Args:\n",
    "        gt_uv_normalized (np.ndarray): Array of shape (N, 2) with normalized u, v values in [0, 1].\n",
    "        image_width (int): Width of the image in pixels.\n",
    "        image_height (int): Height of the image in pixels.\n",
    "\n",
    "    Returns:\n",
    "        np.ndarray: Array of shape (N, 3) with columns [track_id, u_px, v_px]\n",
    "    \"\"\"\n",
    "    u_px = (gt_uv_normalized[:, 0] * image_width).astype(int)\n",
    "    v_px = (gt_uv_normalized[:, 1] * image_height).astype(int)\n",
    "    track_ids = np.zeros((len(gt_uv_normalized), 1), dtype=int)\n",
    "\n",
    "    return np.hstack((track_ids, u_px[:, None], v_px[:, None]))\n",
    "\n",
    "output_rows = convert_normalized_gt_to_absolute(gt_uv_normalized=gt_uv, image_width=1920, image_height=1080)\n",
    "df = pd.DataFrame(output_rows, columns=[\"id\", \"u\", \"v\"])\n",
    "df.insert(0, \"frame\", range(len(df)))  # Insert frame column\n",
    "\n",
    "# Save to CSV\n",
    "df.to_csv(\"multimodal_test/tracking_output_gt.csv\", index=False)"
   ]
  },
  {
   "cell_type": "code",
   "execution_count": 4,
   "id": "c7bb9952",
   "metadata": {},
   "outputs": [],
   "source": [
    "# Evaluate RMSE:\n",
    "# for i in "
   ]
  },
  {
   "cell_type": "code",
   "execution_count": null,
   "id": "69d0852a",
   "metadata": {},
   "outputs": [
    {
     "name": "stdout",
     "output_type": "stream",
     "text": [
      "                IDF1   IDP   IDR  Rcll  Prcn GT MT PT ML FP FN IDs  FM   MOTA    MOTP IDt IDa IDm\n",
      "fusion_tracker 43.6% 43.6% 43.6% 43.6% 43.6%  1  0  1  0 53 53   0   7 -12.8% 462.268   0   0   0\n",
      "RMSE between ground truth and predictions: 150.58 pixels\n"
     ]
    }
   ],
   "source": [
    "# Evaluate IDF1: find IDF1 for each case\n",
    "\n",
    "def load_csv(file_path):\n",
    "    \"\"\"Load CSV in the format frame,id,u,v\"\"\"\n",
    "    df = pd.read_csv(file_path)\n",
    "    return df\n",
    "\n",
    "def create_accumulator(gt_df, pred_df, dist_threshold=50):\n",
    "    acc = mm.MOTAccumulator(auto_id=True)\n",
    "\n",
    "    all_frames = sorted(set(gt_df[\"frame\"]) | set(pred_df[\"frame\"]))\n",
    "\n",
    "    for frame in all_frames:\n",
    "        gt_frame = gt_df[gt_df[\"frame\"] == frame]\n",
    "        pred_frame = pred_df[pred_df[\"frame\"] == frame]\n",
    "\n",
    "        gt_ids = gt_frame[\"id\"].tolist()\n",
    "        gt_coords = gt_frame[[\"u\", \"v\"]].to_numpy()\n",
    "\n",
    "        pred_ids = pred_frame[\"id\"].tolist()\n",
    "        pred_coords = pred_frame[[\"u\", \"v\"]].to_numpy()\n",
    "\n",
    "        if len(gt_coords) > 0 and len(pred_coords) > 0:\n",
    "            dists = mm.distances.norm2squared_matrix(gt_coords, pred_coords, max_d2=dist_threshold**2)\n",
    "        else:\n",
    "            dists = np.empty((len(gt_coords), len(pred_coords)))\n",
    "            dists[:] = np.nan\n",
    "\n",
    "        acc.update(gt_ids, pred_ids, dists)\n",
    "\n",
    "    return acc\n",
    "\n",
    "def compute_rmse(gt_df, pred_df):\n",
    "    merged = pd.merge(gt_df, pred_df, on=\"frame\", suffixes=('_gt', '_pred'))\n",
    "    merged = merged[merged[\"id_pred\"] == merged[\"id_gt\"]]\n",
    "    if merged.empty:\n",
    "        return None\n",
    "    errors = np.sqrt((merged[\"u_gt\"] - merged[\"u_pred\"])**2 + (merged[\"v_gt\"] - merged[\"v_pred\"])**2)\n",
    "    rmse = np.sqrt(np.mean(errors**2))\n",
    "    return rmse\n",
    "\n",
    "def evaluate_tracking(gt_csv, pred_csv, name=\"tracker\"):\n",
    "    gt_df = load_csv(gt_csv)\n",
    "    pred_df = load_csv(pred_csv)\n",
    "\n",
    "    acc = create_accumulator(gt_df, pred_df)\n",
    "    mh = mm.metrics.create()\n",
    "    summary = mh.compute(acc, metrics=mm.metrics.motchallenge_metrics, name=name)\n",
    "\n",
    "    print(mm.io.render_summary(summary, formatters=mh.formatters, namemap=mm.io.motchallenge_metric_names))\n",
    "\n",
    "    # Compute RMSE\n",
    "    rmse = compute_rmse(gt_df, pred_df)\n",
    "    if rmse is not None:\n",
    "        print(f\"RMSE between ground truth and predictions: {rmse:.2f} pixels\")\n",
    "    else:\n",
    "        print(\"RMSE could not be computed (no matching frames/IDs).\")\n",
    "\n",
    "# Example usage:\n",
    "evaluate_tracking(\n",
    "    gt_csv=\"multimodal_test/tracking_output_gt.csv\",\n",
    "    pred_csv=\"multimodal_test/tracking_output_camera_1_radar_1.csv\",\n",
    "    name=\"fusion_tracker\"\n",
    ")\n",
    "# interested in MOTP- MOT Precision: average localization error of matches (lower = better).\n",
    "# IDF1-F1 score of ID-based precision and recall: how well the tracker maintains consistent object identities.\n",
    "# and FM-Fragmentations: interruptions in tracking continuity.\n",
    "\n",
    "# Camera + Radar:\n",
    "# RMSE: 150.8 pixels\n",
    "# IDF1: 43.6%\n",
    "# FM: 7\n",
    "\n",
    "# Radar Only:\n",
    "# RMSE: 156.86 pixels\n",
    "# IDF1: 31.9%\n",
    "# FM: 6\n",
    "\n",
    "# Camera Only:\n",
    "# RMSE: 151.3 pixels\n",
    "# IDF1: 46.8%\n",
    "# FM: 8\n"
   ]
  }
 ],
 "metadata": {
  "kernelspec": {
   "display_name": "test",
   "language": "python",
   "name": "python3"
  },
  "language_info": {
   "codemirror_mode": {
    "name": "ipython",
    "version": 3
   },
   "file_extension": ".py",
   "mimetype": "text/x-python",
   "name": "python",
   "nbconvert_exporter": "python",
   "pygments_lexer": "ipython3",
   "version": "3.12.3"
  }
 },
 "nbformat": 4,
 "nbformat_minor": 5
}
